{
 "cells": [
  {
   "attachments": {},
   "cell_type": "markdown",
   "metadata": {},
   "source": [
    "# Annotations in Altair"
   ]
  },
  {
   "attachments": {},
   "cell_type": "markdown",
   "metadata": {
    "colab_type": "text",
    "id": "Wy1RJr6YaIWG",
    "slideshow": {
     "slide_type": "slide"
    }
   },
   "source": [
    "## Setup"
   ]
  },
  {
   "cell_type": "code",
   "execution_count": null,
   "metadata": {
    "colab": {},
    "colab_type": "code",
    "id": "zYMsJwmgJ4R7",
    "slideshow": {
     "slide_type": "subslide"
    }
   },
   "outputs": [],
   "source": [
    "import warnings\n",
    "warnings.simplefilter(action='ignore', category=FutureWarning)\n",
    "\n",
    "import pandas as pd\n",
    "import altair as alt"
   ]
  },
  {
   "attachments": {},
   "cell_type": "markdown",
   "metadata": {
    "colab_type": "text",
    "id": "LBotwpgUaaXQ",
    "slideshow": {
     "slide_type": "slide"
    }
   },
   "source": [
    "## Data"
   ]
  },
  {
   "cell_type": "code",
   "execution_count": null,
   "metadata": {
    "colab": {
     "base_uri": "https://localhost:8080/",
     "height": 204
    },
    "colab_type": "code",
    "id": "M0Sp4rLibEZe",
    "outputId": "42a06146-8554-45fb-f2ac-1ec06a0b738d",
    "slideshow": {
     "slide_type": "slide"
    }
   },
   "outputs": [],
   "source": [
    "df = pd.read_csv('https://raw.githubusercontent.com/kirenz/datasets/master/cars.csv')\n",
    "df.head()"
   ]
  },
  {
   "cell_type": "code",
   "execution_count": null,
   "metadata": {},
   "outputs": [],
   "source": [
    "df.info()"
   ]
  },
  {
   "attachments": {},
   "cell_type": "markdown",
   "metadata": {},
   "source": [
    "We first transform the data in the correct format."
   ]
  },
  {
   "cell_type": "code",
   "execution_count": null,
   "metadata": {},
   "outputs": [],
   "source": [
    "df['Date'] = pd.to_datetime(df['Date'])\n",
    "\n",
    "df['Date'].info()"
   ]
  },
  {
   "cell_type": "code",
   "execution_count": null,
   "metadata": {},
   "outputs": [],
   "source": [
    "# Extract only the year from the date and create a new column called Year\n",
    "df['Year'] = df['Date'].dt.year"
   ]
  },
  {
   "cell_type": "code",
   "execution_count": null,
   "metadata": {},
   "outputs": [],
   "source": [
    "df.head()"
   ]
  },
  {
   "attachments": {},
   "cell_type": "markdown",
   "metadata": {},
   "source": [
    "## Annotations"
   ]
  },
  {
   "attachments": {},
   "cell_type": "markdown",
   "metadata": {},
   "source": [
    "### Scatterplot annotation example"
   ]
  },
  {
   "cell_type": "code",
   "execution_count": null,
   "metadata": {},
   "outputs": [],
   "source": [
    "# Step 1: Create graph\n",
    "graph = alt.Chart(df).mark_circle().encode(\n",
    "        x=alt.X('Horsepower'),\n",
    "        y=alt.Y('Miles_per_Gallon'),\n",
    "        color=alt.Color('Origin:N'),\n",
    "        tooltip=['Horsepower', 'Miles_per_Gallon']\n",
    ")\n",
    "\n",
    "graph"
   ]
  },
  {
   "cell_type": "code",
   "execution_count": null,
   "metadata": {},
   "outputs": [],
   "source": [
    "# Step 2: Create text data and values where to display the text\n",
    "text = [[132, 32.7, 'Japan', 'This is an unusual value'],\n",
    "        [10,  46 , 'Europe', 'Efficient cars']]\n",
    "\n",
    "df_text = pd.DataFrame(___, ___=['Horsepower', 'Miles_per_Gallon', 'Origin', 'Annotation'])\n",
    "df_text"
   ]
  },
  {
   "cell_type": "code",
   "execution_count": null,
   "metadata": {},
   "outputs": [],
   "source": [
    "# Step 3: create annotations\n",
    "annotations = alt.Chart(df_text).mark_text(\n",
    "    align='left', \n",
    "    baseline='middle',\n",
    "    dx=8 # Nudges text to right\n",
    ").encode(\n",
    "    x='Horsepower',\n",
    "    y='Miles_per_Gallon',\n",
    "    text='Annotation',\n",
    "    color='Origin',\n",
    ")\n",
    "\n",
    "annotations"
   ]
  },
  {
   "cell_type": "code",
   "execution_count": null,
   "metadata": {},
   "outputs": [],
   "source": [
    "# Step 4: combine graph with annotations\n",
    "chart = graph + annotations\n",
    "\n",
    "chart"
   ]
  },
  {
   "cell_type": "code",
   "execution_count": null,
   "metadata": {},
   "outputs": [],
   "source": [
    "# Step 5: hide grid\n",
    "chart.configure_view(strokeWidth=0).configure_axis(grid=___)"
   ]
  },
  {
   "attachments": {},
   "cell_type": "markdown",
   "metadata": {},
   "source": [
    "### Annotation with long text"
   ]
  },
  {
   "attachments": {},
   "cell_type": "markdown",
   "metadata": {},
   "source": [
    "We use the same example as before but add more text with a line break"
   ]
  },
  {
   "cell_type": "code",
   "execution_count": null,
   "metadata": {},
   "outputs": [],
   "source": [
    "# Step 1: use the graph from before\n",
    "graph"
   ]
  },
  {
   "cell_type": "code",
   "execution_count": null,
   "metadata": {},
   "outputs": [],
   "source": [
    "# Step 2: Create text data but now use line breaks with \\n\n",
    "text_2 = [[132, 32.7, 'Japan', 'This is an unusual value \\n from a Japanese car'],\n",
    "          [10,  46 , 'Europe', 'Efficient cars \\n made in \\n Europe']]\n",
    "\n",
    "df_text_2 = pd.DataFrame(___, ___=['Horsepower', 'Miles_per_Gallon', 'Origin', 'Annotation'])\n",
    "df_text_2"
   ]
  },
  {
   "cell_type": "code",
   "execution_count": null,
   "metadata": {},
   "outputs": [],
   "source": [
    "# Step 3: create annotations\n",
    "annotations_2 = alt.Chart(___).mark_text(\n",
    "    align='left', \n",
    "    baseline='middle',\n",
    "    dx=8 ,\n",
    "    lineBreak='\\n'\n",
    ").encode(\n",
    "    x='Horsepower',\n",
    "    y='Miles_per_Gallon',\n",
    "    text='___',\n",
    "    color='Origin',\n",
    ")\n",
    "\n",
    "annotations_2"
   ]
  },
  {
   "cell_type": "code",
   "execution_count": null,
   "metadata": {},
   "outputs": [],
   "source": [
    "# Step 4: combine graph with label\n",
    "chart = graph + ___\n",
    "\n",
    "chart"
   ]
  },
  {
   "cell_type": "code",
   "execution_count": null,
   "metadata": {},
   "outputs": [],
   "source": [
    "# Step 5: hide grid\n",
    "chart.configure_view(strokeWidth=0).configure_axis(grid=___)"
   ]
  },
  {
   "attachments": {},
   "cell_type": "markdown",
   "metadata": {
    "colab_type": "text",
    "id": "cvQINJf-rKpe",
    "slideshow": {
     "slide_type": "slide"
    }
   },
   "source": [
    "### Line graph with line labels"
   ]
  },
  {
   "cell_type": "code",
   "execution_count": null,
   "metadata": {},
   "outputs": [],
   "source": [
    "# Only use Europe and USA\n",
    "df = ___\n"
   ]
  },
  {
   "cell_type": "code",
   "execution_count": null,
   "metadata": {},
   "outputs": [],
   "source": [
    "df['Origin'].value_counts()"
   ]
  },
  {
   "cell_type": "code",
   "execution_count": null,
   "metadata": {
    "colab": {
     "base_uri": "https://localhost:8080/",
     "height": 372
    },
    "colab_type": "code",
    "id": "bWjk0W4JuPbn",
    "outputId": "7ad87e04-3c6e-49f4-ac1d-15443f4a17e0"
   },
   "outputs": [],
   "source": [
    "# Create line graph\n",
    "line = alt.Chart(df).mark_line(point=True).encode(\n",
    "        alt.X('Date'),\n",
    "        alt.Y('average(Horsepower)'),\n",
    "        color=alt.Color('Origin:N', legend=None),\n",
    "        tooltip=['Date', 'average(Horsepower)']\n",
    ")\n"
   ]
  },
  {
   "cell_type": "code",
   "execution_count": null,
   "metadata": {},
   "outputs": [],
   "source": [
    "\n",
    "# Create labels at end of chart\n",
    "label = alt.Chart(df).mark_text(\n",
    "    align='left', \n",
    "    baseline='middle',\n",
    "    dx=8 # Nudges text to right\n",
    ").encode(\n",
    "    x='max(Date)',\n",
    "    y=alt.Y('___(Horsepower):Q', aggregate={'___': 'Date'}), # use argmax to reach the last value\n",
    "    text='Origin',\n",
    "    color='Origin',\n",
    ")\n"
   ]
  },
  {
   "cell_type": "code",
   "execution_count": null,
   "metadata": {},
   "outputs": [],
   "source": [
    "\n",
    "chart = line + label\n",
    "\n",
    "# Hide grid\n",
    "___"
   ]
  },
  {
   "attachments": {},
   "cell_type": "markdown",
   "metadata": {},
   "source": [
    "### Line graph with annotations"
   ]
  },
  {
   "cell_type": "code",
   "execution_count": null,
   "metadata": {},
   "outputs": [],
   "source": [
    "text = [['1972-01-01',155, 'USA', 'Hello USA 🎉'],\n",
    "        ['1976-01-01',75, 'Europe', 'Hello Europe']]\n",
    "\n",
    "df_text = pd.DataFrame(text, columns=['Date','Horsepower', 'Origin', 'note'])\n",
    "df_text"
   ]
  },
  {
   "cell_type": "code",
   "execution_count": null,
   "metadata": {},
   "outputs": [],
   "source": [
    "text = alt.Chart(df_text).mark_text().encode(\n",
    "  x='Date:T',\n",
    "  y='Horsepower:Q',\n",
    "  text='note:N',\n",
    "  color='Origin'\n",
    ")\n",
    "\n",
    "chart_2 = line + text\n",
    "\n",
    "chart_2.configure_view(strokeWidth=0).configure_axis(grid=False)"
   ]
  }
 ],
 "metadata": {
  "kernelspec": {
   "display_name": "dst",
   "language": "python",
   "name": "python3"
  },
  "language_info": {
   "codemirror_mode": {
    "name": "ipython",
    "version": 3
   },
   "file_extension": ".py",
   "mimetype": "text/x-python",
   "name": "python",
   "nbconvert_exporter": "python",
   "pygments_lexer": "ipython3",
   "version": "3.11.3"
  },
  "orig_nbformat": 4,
  "vscode": {
   "interpreter": {
    "hash": "57137d00906dcfc610b0009cd9be1d97c3b9b0b8cb7228e2ff7c7001d05affbc"
   }
  }
 },
 "nbformat": 4,
 "nbformat_minor": 2
}
